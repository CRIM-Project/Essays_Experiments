{
 "cells": [
  {
   "cell_type": "markdown",
   "id": "3e150d50",
   "metadata": {},
   "source": [
    "\n",
    "# CRIM tools and their use in a pedagogical context: in search of soggetti in Palestrina’s *missa Veni sponsa Christi* (1599)\n",
    "## Gabriele Taschetti, Marina Toffetti\n",
    "### Supplement to the essay\n",
    "\n",
    "This notebook, edited by Gabriele Taschetti, includes some of the code used to prepare the article \"CRIM tools and their use in a pedagogical context: in search of soggetti in Palestrina’s *missa Veni sponsa Christi* (1599)\" by Gabriele Taschetti and Marina Toffetti."
   ]
  },
  {
   "cell_type": "markdown",
   "id": "26dd55e4",
   "metadata": {},
   "source": [
    "## A. Import Intervals and Other Code\n"
   ]
  },
  {
   "cell_type": "code",
   "execution_count": null,
   "id": "6b1ab1ca",
   "metadata": {},
   "outputs": [],
   "source": [
    "import IPython\n",
    "import intervals\n",
    "from intervals import * \n",
    "from intervals import main_objs\n",
    "import intervals.visualizations as viz\n",
    "import pandas as pd\n",
    "import re\n",
    "import altair as alt\n",
    "import matplotlib.pyplot as plt\n",
    "import seaborn as sns\n",
    "from ipywidgets import interact\n",
    "from pandas.io.json import json_normalize\n",
    "from pyvis.network import Network\n",
    "from IPython.display import display\n",
    "import requests\n",
    "import os\n",
    "import glob as glob\n",
    "audio_style = \"<style>audio { margin-left: 0px; width: 960px; }</style>\"\n",
    "display(HTML(audio_style))\n",
    "\n",
    "\n",
    "MYDIR = (\"saved_csv\")\n",
    "CHECK_FOLDER = os.path.isdir(MYDIR)\n",
    "\n",
    "# If folder doesn't exist, then create it.\n",
    "if not CHECK_FOLDER:\n",
    "    os.makedirs(MYDIR)\n",
    "    print(\"created folder : \", MYDIR)\n",
    "else:\n",
    "    print(MYDIR, \"folder already exists.\")\n",
    "    \n",
    "MUSDIR = (\"Music_Files\")\n",
    "CHECK_FOLDER = os.path.isdir(MUSDIR)\n",
    "\n",
    "# If folder doesn't exist, then create it.\n",
    "if not CHECK_FOLDER:\n",
    "    os.makedirs(MUSDIR)\n",
    "    print(\"created folder : \", MUSDIR)\n",
    "else:\n",
    "    print(MUSDIR, \"folder already exists.\")"
   ]
  },
  {
   "cell_type": "markdown",
   "id": "9b45a639",
   "metadata": {},
   "source": [
    "## B. Search in the corpus"
   ]
  },
  {
   "cell_type": "markdown",
   "id": "2c88ab76",
   "metadata": {},
   "source": [
    "### Preset search (preset corpus; kind='d', n=4, combineUnisons=True; preset soggetti)"
   ]
  },
  {
   "cell_type": "code",
   "execution_count": null,
   "id": "bde25d1c",
   "metadata": {
    "scrolled": false
   },
   "outputs": [],
   "source": [
    "# ESEGUI LA CELLA e seleziona il soggetto\n",
    "corpus = CorpusBase(['https://crimproject.org/mei/CRIM_Model_0019.mei',\n",
    "                     'https://crimproject.org/mei/CRIM_Mass_0019_1.mei',\n",
    "                     'https://crimproject.org/mei/CRIM_Mass_0019_2.mei',\n",
    "                     'https://crimproject.org/mei/CRIM_Mass_0019_3.mei',\n",
    "                     'https://crimproject.org/mei/CRIM_Mass_0019_4.mei',\n",
    "                     'https://crimproject.org/mei/CRIM_Mass_0019_5.mei'])\n",
    "func1 = ImportedPiece.notes\n",
    "notes_df = corpus.batch(func=func1, kwargs={'combineUnisons': True}, metadata=False)\n",
    "func2 = ImportedPiece.melodic\n",
    "melodic_df = corpus.batch(func=func2, kwargs={'kind': 'd', 'end': False, 'df': notes_df}, metadata=False)\n",
    "func3 = ImportedPiece.ngrams\n",
    "ngrams_df = corpus.batch(func=func3, kwargs={'n': 4, 'df': melodic_df}, metadata=False)\n",
    "func4 = ImportedPiece.detailIndex\n",
    "list_of_detail_index = corpus.batch(func=func4, kwargs={'offset': False,'df': ngrams_df}, metadata=True)\n",
    "\n",
    "mel_corpus = pd.concat(list_of_detail_index)\n",
    "comp = mel_corpus.pop(\"Composer\")\n",
    "mel_corpus['Composer'] = comp\n",
    "title = mel_corpus.pop(\"Title\")\n",
    "mel_corpus[\"Title\"] = title\n",
    "mel_corpus = mel_corpus.fillna('-')\n",
    "\n",
    "def _convertTuple(tup):\n",
    "    out = \"\"\n",
    "    if isinstance(tup, tuple):\n",
    "        out = ', '.join(tup)\n",
    "    return out\n",
    "\n",
    "@interact\n",
    "def mel_ngram_search(soggetto=[\"-3, 3, 2, -2\", \"-3, 2, 2, -2\", \"-3, 3, -2, -2\", \"-2, 2, 3, -2\"], df = fixed(mel_corpus)):\n",
    "    df_no_tuple = df.applymap(_convertTuple)\n",
    "    df_no_tuple.pop(\"Composer\")\n",
    "    df_no_tuple.pop(\"Title\")\n",
    "    df_no_tuple.insert(0, \"Composer\", df[\"Composer\"])\n",
    "    df_no_tuple.insert(1, \"Title\", df[\"Title\"])\n",
    "    filtered_ngrams = df_no_tuple[df_no_tuple.apply(lambda x: x.astype(str).str.contains(soggetto).any(), axis=1)].copy()\n",
    "    \n",
    "    pd.set_option('max_columns', None)\n",
    "    return filtered_ngrams.fillna(\"-\").reset_index().applymap(str).style.applymap(lambda x: \"background: #ccebc4\" if re.search(soggetto, x) else \"\")\n"
   ]
  },
  {
   "cell_type": "markdown",
   "id": "336d9d12",
   "metadata": {},
   "source": [
    "### Set your own parameters"
   ]
  },
  {
   "cell_type": "code",
   "execution_count": null,
   "id": "cbdf22af",
   "metadata": {},
   "outputs": [],
   "source": [
    "corpus = CorpusBase(['https://crimproject.org/mei/CRIM_Model_0019.mei',\n",
    "                     'https://crimproject.org/mei/CRIM_Mass_0019_1.mei',\n",
    "                     'https://crimproject.org/mei/CRIM_Mass_0019_2.mei',\n",
    "                     'https://crimproject.org/mei/CRIM_Mass_0019_3.mei',\n",
    "                     'https://crimproject.org/mei/CRIM_Mass_0019_4.mei',\n",
    "                     'https://crimproject.org/mei/CRIM_Mass_0019_5.mei'])"
   ]
  },
  {
   "cell_type": "markdown",
   "id": "43fcdd7f",
   "metadata": {},
   "source": [
    "### All occurrences"
   ]
  },
  {
   "cell_type": "code",
   "execution_count": null,
   "id": "53c8fd4a",
   "metadata": {},
   "outputs": [],
   "source": [
    "# settings for ngrams, unisons and kind\n",
    "combineUnisons = True\n",
    "kind = 'd'\n",
    "n = 3"
   ]
  },
  {
   "cell_type": "code",
   "execution_count": null,
   "id": "95a545d8",
   "metadata": {},
   "outputs": [],
   "source": [
    "# ESEGUI LA CELLA e scrivi la tua ricerca\n",
    "func1 = ImportedPiece.notes\n",
    "notes_df = corpus.batch(func=func1, kwargs={'combineUnisons': combineUnisons}, metadata=False)\n",
    "func2 = ImportedPiece.melodic\n",
    "melodic_df = corpus.batch(func=func2, kwargs={'kind': kind, 'end': False, 'df': notes_df}, metadata=False)\n",
    "func3 = ImportedPiece.ngrams\n",
    "ngrams_df = corpus.batch(func=func3, kwargs={'n': n, 'df': melodic_df}, metadata=False)\n",
    "func4 = ImportedPiece.detailIndex\n",
    "list_of_detail_index = corpus.batch(func=func4, kwargs={'offset': False,'df': ngrams_df}, metadata=True)\n",
    "\n",
    "mel_corpus = pd.concat(list_of_detail_index)\n",
    "comp = mel_corpus.pop(\"Composer\")\n",
    "mel_corpus['Composer'] = comp\n",
    "title = mel_corpus.pop(\"Title\")\n",
    "mel_corpus[\"Title\"] = title\n",
    "mel_corpus = mel_corpus.fillna('-')\n",
    "\n",
    "def _convertTuple(tup):\n",
    "    out = \"\"\n",
    "    if isinstance(tup, tuple):\n",
    "        out = ', '.join(tup)\n",
    "    return out\n",
    "\n",
    "@interact\n",
    "def mel_ngram_search(my_search=\"\", df = fixed(mel_corpus)):\n",
    "    df_no_tuple = df.applymap(_convertTuple)\n",
    "    df_no_tuple.pop(\"Composer\")\n",
    "    df_no_tuple.pop(\"Title\")\n",
    "    df_no_tuple.insert(0, \"Composer\", df[\"Composer\"])\n",
    "    df_no_tuple.insert(1, \"Title\", df[\"Title\"])\n",
    "    filtered_ngrams = df_no_tuple[df_no_tuple.apply(lambda x: x.astype(str).str.contains(my_search).any(), axis=1)].copy()\n",
    "    \n",
    "    pd.set_option('max_columns', None)\n",
    "    return filtered_ngrams.fillna(\"-\").reset_index().applymap(str).style.applymap(lambda x: \"background: #ccebc4\" if re.search(my_search, x) else \"\")"
   ]
  },
  {
   "cell_type": "markdown",
   "id": "296077eb",
   "metadata": {},
   "source": [
    "### Entries only"
   ]
  },
  {
   "cell_type": "code",
   "execution_count": null,
   "id": "e012713e",
   "metadata": {},
   "outputs": [],
   "source": [
    "combineUnisons = True\n",
    "kind = 'd'\n",
    "n = 3"
   ]
  },
  {
   "cell_type": "code",
   "execution_count": null,
   "id": "c36523c7",
   "metadata": {},
   "outputs": [],
   "source": [
    "func1 = ImportedPiece.notes\n",
    "notes_df = corpus.batch(func=func1, kwargs={'combineUnisons': True}, metadata=False)\n",
    "func2 = ImportedPiece.melodic\n",
    "melodic_df = corpus.batch(func=func2, kwargs={'kind': 'd', 'end': False, 'df': notes_df}, metadata=False)\n",
    "func3 = ImportedPiece.entries\n",
    "entries_df = corpus.batch(func=func3, kwargs={'n': 4, 'df': melodic_df}, metadata=False)\n",
    "func4 = ImportedPiece.detailIndex\n",
    "list_of_detail_index = corpus.batch(func=func4, kwargs={'offset': False,'df': entries_df}, metadata=True)\n",
    "\n",
    "mel_corpus = pd.concat(list_of_detail_index)\n",
    "comp = mel_corpus.pop(\"Composer\")\n",
    "mel_corpus['Composer'] = comp\n",
    "title = mel_corpus.pop(\"Title\")\n",
    "mel_corpus[\"Title\"] = title\n",
    "mel_corpus = mel_corpus.fillna('-')\n",
    "\n",
    "def _convertTuple(tup):\n",
    "    out = \"\"\n",
    "    if isinstance(tup, tuple):\n",
    "        out = ', '.join(tup)\n",
    "    return out\n",
    "\n",
    "@interact\n",
    "def mel_ngram_search(my_search=\"\", df = fixed(mel_corpus)):\n",
    "    df_no_tuple = df.applymap(_convertTuple)\n",
    "    df_no_tuple.pop(\"Composer\")\n",
    "    df_no_tuple.pop(\"Title\")\n",
    "    df_no_tuple.insert(0, \"Composer\", df[\"Composer\"])\n",
    "    df_no_tuple.insert(1, \"Title\", df[\"Title\"])\n",
    "    filtered_ngrams = df_no_tuple[df_no_tuple.apply(lambda x: x.astype(str).str.contains(my_search).any(), axis=1)].copy()\n",
    "    \n",
    "    pd.set_option('max_columns', None)\n",
    "    return filtered_ngrams.fillna(\"-\").reset_index().applymap(str).style.applymap(lambda x: \"background: #ccebc4\" if re.search(my_search, x) else \"\")"
   ]
  },
  {
   "cell_type": "markdown",
   "id": "eeeb5f3d",
   "metadata": {},
   "source": [
    "### Check the music"
   ]
  },
  {
   "cell_type": "code",
   "execution_count": null,
   "id": "b3f5f508",
   "metadata": {},
   "outputs": [],
   "source": [
    "piece_list = ['CRIM_Model_0019.mei',\n",
    "              'CRIM_Mass_0019_1.mei',\n",
    "              'CRIM_Mass_0019_2.mei',\n",
    "              'CRIM_Mass_0019_3.mei',\n",
    "              'CRIM_Mass_0019_4.mei',\n",
    "              'CRIM_Mass_0019_5.mei']\n",
    "prefix = 'https://crimproject.org/mei/' \n",
    "mei_file = piece_list[5] # 0=model 1-5=mass movements (e. g. 2=Gloria)\n",
    "url = prefix + mei_file\n",
    "piece = importScore(url)\n",
    "print(piece.metadata)\n",
    "piece.verovioPrintExample(36, 41) # start measure, end measure"
   ]
  },
  {
   "cell_type": "markdown",
   "id": "49382d54",
   "metadata": {},
   "source": [
    "## C. Find the most recurrent entries in the model"
   ]
  },
  {
   "cell_type": "code",
   "execution_count": null,
   "id": "0a517442",
   "metadata": {},
   "outputs": [],
   "source": [
    "piece_list = ['CRIM_Model_0019',\n",
    "              'CRIM_Mass_0019_1',\n",
    "              'CRIM_Mass_0019_2',\n",
    "              'CRIM_Mass_0019_3',\n",
    "              'CRIM_Mass_0019_4',\n",
    "              'CRIM_Mass_0019_5']"
   ]
  },
  {
   "cell_type": "code",
   "execution_count": null,
   "id": "c3b43857",
   "metadata": {},
   "outputs": [],
   "source": [
    "# settings for ngrams, unisons and kind\n",
    "n = 4\n",
    "combineUnisons = True\n",
    "kind = 'd'\n",
    "\n",
    "# set the number of n-grams\n",
    "n_of_ngrams = 4"
   ]
  },
  {
   "cell_type": "code",
   "execution_count": null,
   "id": "2c32798d",
   "metadata": {},
   "outputs": [],
   "source": [
    "# select the model from the list\n",
    "model = piece_list[0]\n",
    "prefix = 'https://crimproject.org/mei/' \n",
    "# prefix = 'Music_Files/'\n",
    "url = prefix + model + '.mei'\n",
    "model = importScore(url)\n",
    "\n",
    "# get the most frequent entries of the model\n",
    "nr = model.notes(combineUnisons=combineUnisons)\n",
    "mel = model.melodic(df=nr, kind=kind, end=False)\n",
    "ng = model.ngrams(df=mel, n=n)\n",
    "entries = model.entries(df=ng).stack().value_counts().to_frame().head(n_of_ngrams)\n",
    "entries_chart = model.entries(df=ng).stack().value_counts().to_frame().head(n_of_ngrams)\n",
    "entries_chart.columns = ['counts']\n",
    "entries_list = entries_chart.index.tolist()\n",
    "entries_chart"
   ]
  },
  {
   "cell_type": "markdown",
   "id": "b96ac676",
   "metadata": {},
   "source": [
    "## D. Visualize the most recurrent entries of the model in the whole corpus\n",
    "Visualize n-grams anywhere and only where they occur as entries (after a rest or section break)"
   ]
  },
  {
   "cell_type": "code",
   "execution_count": null,
   "id": "452b4222",
   "metadata": {
    "scrolled": false
   },
   "outputs": [],
   "source": [
    "for piece in piece_list:\n",
    "    prefix = 'https://crimproject.org/mei/'\n",
    "    mei_file = piece\n",
    "    url = prefix + mei_file + '.mei'\n",
    "    audio_url = 'https://crimproject.org/static/mp3/' + mei_file + '.mp3'\n",
    "    piece = importScore(url)\n",
    "    nr = piece.notes(combineUnisons=combineUnisons)\n",
    "    mel = piece.melodic(df=nr, kind=kind, compound=False, unit=0, end=False)\n",
    "    mel_ngrams = piece.ngrams(df=mel, n=n)\n",
    "    piece_entries = piece.entries(df=mel, n=n, anywhere=True)\n",
    "    mel_ngrams_duration = piece.durations(df=mel, n=n, mask_df=piece_entries)\n",
    "    print()\n",
    "    print(piece.metadata)\n",
    "    print('Anywhere')\n",
    "    display(viz.plot_ngrams_heatmap(piece_entries, mel_ngrams_duration, selected_patterns=entries_list, voices=[]))\n",
    "    piece_entries = piece.entries(df=mel, n=n, anywhere=False)\n",
    "    mel_ngrams_duration = piece.durations(df=mel, n=n, mask_df=piece_entries)\n",
    "    print('Entries only')\n",
    "    display(viz.plot_ngrams_heatmap(piece_entries, mel_ngrams_duration, selected_patterns=entries_list, voices=[]))\n",
    "    # load mp3 file (add/remove '#' at the beginning of the next line)\n",
    "    display(IPython.display.Audio(audio_url))\n",
    "    "
   ]
  },
  {
   "cell_type": "markdown",
   "id": "82c4decb",
   "metadata": {},
   "source": [
    "### Check the music"
   ]
  },
  {
   "cell_type": "code",
   "execution_count": null,
   "id": "cc688ad4",
   "metadata": {},
   "outputs": [],
   "source": [
    "# select piece: 0=model 1-5=mass movements\n",
    "check_piece = 1\n",
    "# start number\n",
    "start_offset = 426\n",
    "# number of bars to display\n",
    "bars = 4\n",
    "# bars before the offset\n",
    "bars_bf = 1\n",
    "\n",
    "# load piece\n",
    "prefix = 'https://crimproject.org/mei/' \n",
    "mei_file = piece_list[check_piece]\n",
    "url = prefix + mei_file + '.mei'\n",
    "piece = importScore(url)\n",
    "# get offsets of the nGrams\n",
    "mel = piece.melodic(kind=kind)\n",
    "ng = piece.ngrams(df=mel, n=n)\n",
    "final_ngs = piece.detailIndex(ng, offset=True)\n",
    "# get measure number\n",
    "idx = pd.IndexSlice\n",
    "check = final_ngs.loc[idx[:,:,[start_offset]]]\n",
    "index_list = check.index.tolist()\n",
    "get_measure = index_list[0]\n",
    "measure = int(*get_measure[:1])\n",
    "# render example\n",
    "start_ex = (measure - bars_bf)\n",
    "end_ex = start_ex + (bars - 1)\n",
    "print('Offset ' + str(start_offset) + ' is in measure ' + str(measure))\n",
    "piece.verovioPrintExample(start_ex, end_ex)"
   ]
  },
  {
   "cell_type": "markdown",
   "id": "5098e7af",
   "metadata": {},
   "source": [
    "## D. Search and visualize any list of n-grams in the corpus"
   ]
  },
  {
   "cell_type": "code",
   "execution_count": null,
   "id": "880d1e4f",
   "metadata": {},
   "outputs": [],
   "source": [
    "# settings for ngrams, unisons and kind\n",
    "n = 4\n",
    "combineUnisons = True\n",
    "kind = 'd'"
   ]
  },
  {
   "cell_type": "code",
   "execution_count": null,
   "id": "af63fb50",
   "metadata": {},
   "outputs": [],
   "source": [
    "list_1 = [('-3', '3', '2', '-2'),\n",
    "            ('-3', '2', '2', '-2'),\n",
    "            ('-3', '3', '-2', '-2'),\n",
    "            ('-2', '2', '3', '-2')]\n",
    "# list 2 = []"
   ]
  },
  {
   "cell_type": "code",
   "execution_count": null,
   "id": "75e5020c",
   "metadata": {},
   "outputs": [],
   "source": [
    "selected_patterns = list_1"
   ]
  },
  {
   "cell_type": "code",
   "execution_count": null,
   "id": "238491b5",
   "metadata": {},
   "outputs": [],
   "source": [
    "for piece in piece_list:\n",
    "    prefix = 'https://crimproject.org/mei/' \n",
    "    mei_file = piece\n",
    "    url = prefix + mei_file + '.mei'\n",
    "    piece = importScore(url)\n",
    "    notes = piece.notes(combineUnisons=combineUnisons)\n",
    "    notes_durs = piece.durations(df=notes, mask_df=notes)\n",
    "    notes.replace(\"Rest\", np.nan, inplace=True)\n",
    "    nr = piece.notes(combineUnisons=combineUnisons)\n",
    "    mel = piece.melodic(df=nr, kind=kind, compound=True, unit=0)\n",
    "    mel_ngrams = piece.ngrams(df=mel, n=n)\n",
    "    mel_ngrams_duration = piece.durations(df=mel, n=n, mask_df=mel_ngrams)\n",
    "    print(piece.metadata)\n",
    "    display(viz.plot_ngrams_heatmap(mel_ngrams, mel_ngrams_duration, selected_patterns=selected_patterns, voices=[]))\n",
    "    #load audio\n",
    "    #display(IPython.display.Audio('https://crimproject.org/static/mp3/' + mei_file + '.mp3'))"
   ]
  },
  {
   "cell_type": "markdown",
   "id": "8437df1d",
   "metadata": {},
   "source": [
    "### Check the music"
   ]
  },
  {
   "cell_type": "code",
   "execution_count": null,
   "id": "a851a380",
   "metadata": {},
   "outputs": [],
   "source": [
    "# select piece: 0=model 1-5=mass movements\n",
    "check_piece = 1\n",
    "# start number\n",
    "start_offset = 426\n",
    "# number of bars to display\n",
    "bars = 4\n",
    "# bars before the offset\n",
    "bars_bf = 1\n",
    "\n",
    "# load piece\n",
    "prefix = 'https://crimproject.org/mei/' \n",
    "mei_file = piece_list[check_piece]\n",
    "url = prefix + mei_file + '.mei'\n",
    "piece = importScore(url)\n",
    "# get offsets of the nGrams\n",
    "mel = piece.melodic(kind=kind)\n",
    "ng = piece.ngrams(df=mel, n=n)\n",
    "final_ngs = piece.detailIndex(ng, offset=True)\n",
    "# get measure number\n",
    "idx = pd.IndexSlice\n",
    "check = final_ngs.loc[idx[:,:,[start_offset]]]\n",
    "index_list = check.index.tolist()\n",
    "get_measure = index_list[0]\n",
    "measure = int(*get_measure[:1])\n",
    "# render example\n",
    "start_ex = (measure - bars_bf)\n",
    "end_ex = start_ex + (bars - 1)\n",
    "print('Offset ' + str(start_offset) + ' is in measure ' + str(measure))\n",
    "piece.verovioPrintExample(start_ex, end_ex)"
   ]
  },
  {
   "cell_type": "markdown",
   "id": "f0e7d076",
   "metadata": {},
   "source": [
    "### Print any example"
   ]
  },
  {
   "cell_type": "code",
   "execution_count": null,
   "id": "ae68bf2c",
   "metadata": {},
   "outputs": [],
   "source": [
    "prefix = 'https://crimproject.org/mei/' \n",
    "# select piece: 0=model 1-5=mass movements\n",
    "mei_file = piece_list[0]\n",
    "url = prefix + mei_file + '.mei'\n",
    "piece = importScore(url)\n",
    "# select first and last measure of the example\n",
    "piece.verovioPrintExample(50, 54)"
   ]
  }
 ],
 "metadata": {
  "kernelspec": {
   "display_name": "Python 3 (ipykernel)",
   "language": "python",
   "name": "python3"
  },
  "language_info": {
   "codemirror_mode": {
    "name": "ipython",
    "version": 3
   },
   "file_extension": ".py",
   "mimetype": "text/x-python",
   "name": "python",
   "nbconvert_exporter": "python",
   "pygments_lexer": "ipython3",
   "version": "3.9.7"
  },
  "toc": {
   "base_numbering": 1,
   "nav_menu": {},
   "number_sections": true,
   "sideBar": true,
   "skip_h1_title": false,
   "title_cell": "Table of Contents",
   "title_sidebar": "Contents",
   "toc_cell": false,
   "toc_position": {
    "height": "calc(100% - 180px)",
    "left": "10px",
    "top": "150px",
    "width": "339.333px"
   },
   "toc_section_display": true,
   "toc_window_display": true
  }
 },
 "nbformat": 4,
 "nbformat_minor": 5
}
